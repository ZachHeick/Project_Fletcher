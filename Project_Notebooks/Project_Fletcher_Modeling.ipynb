{
 "cells": [
  {
   "cell_type": "markdown",
   "metadata": {},
   "source": [
    "Topic: Project 4   \n",
    "Subject: Creating Models for each Subreddit  \n",
    "Date: 11/10/2017   \n",
    "Name: Zach Heick   "
   ]
  },
  {
   "cell_type": "markdown",
   "metadata": {},
   "source": [
    "**Summary**: I vectorized the cleaned comments and their metadata to create individual models for each subreddit. "
   ]
  },
  {
   "cell_type": "code",
   "execution_count": 1,
   "metadata": {
    "collapsed": true
   },
   "outputs": [],
   "source": [
    "import pandas as pd\n",
    "import numpy as np\n",
    "import pickle\n",
    "import random\n",
    "import matplotlib.pyplot as plt\n",
    "from sklearn.feature_extraction.text import TfidfVectorizer\n",
    "from sklearn.preprocessing import StandardScaler, RobustScaler\n",
    "from sklearn.metrics import precision_score, accuracy_score, recall_score, f1_score\n",
    "from sklearn.dummy import DummyClassifier\n",
    "from sklearn.tree import DecisionTreeClassifier\n",
    "from sklearn.model_selection import GridSearchCV\n",
    "\n",
    "%matplotlib inline\n",
    "\n",
    "import warnings\n",
    "warnings.filterwarnings('ignore')"
   ]
  },
  {
   "cell_type": "code",
   "execution_count": 2,
   "metadata": {
    "collapsed": true
   },
   "outputs": [],
   "source": [
    "random.seed(42)"
   ]
  },
  {
   "cell_type": "code",
   "execution_count": 3,
   "metadata": {},
   "outputs": [],
   "source": [
    "with open('../Data_Files/subreddits.pickle', 'rb') as f:\n",
    "    subreddits = pickle.load(f)"
   ]
  },
  {
   "cell_type": "code",
   "execution_count": 5,
   "metadata": {},
   "outputs": [
    {
     "data": {
      "text/plain": [
       "197427"
      ]
     },
     "execution_count": 5,
     "metadata": {},
     "output_type": "execute_result"
    }
   ],
   "source": [
    "comments_d = {}\n",
    "comments_sum = 0\n",
    "for subreddit in subreddits:\n",
    "    with open('../Data_Files/{}_comments.pickle'.format(subreddit), 'rb') as f:\n",
    "        comments = pickle.load(f)\n",
    "    random.shuffle(comments)\n",
    "    comments_d[subreddit] = comments\n",
    "    comments_sum += len(comments)\n",
    "comments_sum"
   ]
  },
  {
   "cell_type": "markdown",
   "metadata": {},
   "source": [
    "Almost 200,000 total comments!"
   ]
  },
  {
   "cell_type": "markdown",
   "metadata": {},
   "source": [
    "# Modeling Functions"
   ]
  },
  {
   "cell_type": "code",
   "execution_count": 7,
   "metadata": {
    "collapsed": true
   },
   "outputs": [],
   "source": [
    "def get_other_features(comments):\n",
    "    \"\"\"\n",
    "    Creates train/test dataframes for features that do not include the vectorized text data.\n",
    "    \n",
    "    :param comments: list of dictionaries containing comment data\n",
    "    :returns: Train/test dataframes\n",
    "    \"\"\"\n",
    "    \n",
    "    split = int(len(comments)* 0.70)\n",
    "    \n",
    "    # Create dataframes and remove comment and score columns\n",
    "    train_other_features = [d for d in comments[:split]]\n",
    "    train_other_features_df = pd.DataFrame(train_other_features)\n",
    "    train_other_features_df.drop(['comment', 'score'], axis=1, inplace=True)\n",
    "        \n",
    "    test_other_features = [d for d in comments[split:]]\n",
    "    test_other_features_df = pd.DataFrame(test_other_features)\n",
    "    test_other_features_df.drop(['comment', 'score'], axis=1, inplace=True)\n",
    "    \n",
    "    ss = StandardScaler()\n",
    "    \n",
    "    train_scaled_features = ss.fit_transform(train_other_features_df.values)\n",
    "    test_scaled_features = ss.transform(test_other_features_df.values)\n",
    "    \n",
    "    train_other_features_scaled_df = pd.DataFrame(train_scaled_features, \n",
    "                                              index=train_other_features_df.index,\n",
    "                                              columns=train_other_features_df.columns)\n",
    "    test_other_features_scaled_df = pd.DataFrame(test_scaled_features, \n",
    "                                                  index=test_other_features_df.index,\n",
    "                                                  columns=test_other_features_df.columns)\n",
    "    \n",
    "    return train_other_features_scaled_df, test_other_features_scaled_df"
   ]
  },
  {
   "cell_type": "code",
   "execution_count": 8,
   "metadata": {
    "collapsed": true
   },
   "outputs": [],
   "source": [
    "def get_train_test_split(comments):\n",
    "    \"\"\"\n",
    "    Creates train / test split from list of comment dictionaries.\n",
    "    \n",
    "    :param comments: list of dictionaries containing comment data\n",
    "    :returns: Train and test dataframes with the TFIDF object and features\n",
    "    \"\"\"\n",
    "    split = int(len(comments)* 0.70)\n",
    "    \n",
    "    # Get comments and scores\n",
    "    train_comments = [d['comment'] for d in comments[:split]]\n",
    "    train_scores = [d['score'] for d in comments[:split]]\n",
    "\n",
    "    test_comments = [d['comment'] for d in comments[split:]]\n",
    "    test_scores = [d['score'] for d in comments[split:]]\n",
    "            \n",
    "    # Vectorize comments\n",
    "    tfidf = TfidfVectorizer(ngram_range=(1,3), max_df = 0.7, max_features=1000)\n",
    "    train_comments_tfidf = tfidf.fit_transform(train_comments)\n",
    "    test_comments_tfidf = tfidf.transform(test_comments)\n",
    "    \n",
    "    rs = RobustScaler()\n",
    "    \n",
    "    # Create vectorized dataframes\n",
    "    train_tfidf_df = pd.DataFrame(train_comments_tfidf.toarray(), columns=tfidf.get_feature_names())\n",
    "    test_tfidf_df = pd.DataFrame(test_comments_tfidf.toarray(), columns=tfidf.get_feature_names())\n",
    "    \n",
    "    # Scale data and create dataframe\n",
    "    scaled_train_tfidf = rs.fit_transform(train_tfidf_df)\n",
    "    scaled_test_tfidf = rs.transform(test_tfidf_df)\n",
    "    \n",
    "    scaled_train_tfidf_df = pd.DataFrame(scaled_train_tfidf)\n",
    "    scaled_test_tfidf_df = pd.DataFrame(scaled_test_tfidf)\n",
    "\n",
    "    # Get features dataframes from other comment metadata\n",
    "    train_other_features_scaled_df, test_other_features_scaled_df = get_other_features(comments)\n",
    "    \n",
    "    # Concat vectorized and other features dataframes\n",
    "    final_train_df = pd.concat([scaled_train_tfidf_df, train_other_features_scaled_df], axis=1)\n",
    "    final_test_df = pd.concat([scaled_test_tfidf_df, test_other_features_scaled_df], axis=1)\n",
    "    \n",
    "    return final_train_df, train_scores, final_test_df, test_scores, tfidf, train_comments_tfidf"
   ]
  },
  {
   "cell_type": "code",
   "execution_count": 9,
   "metadata": {
    "collapsed": true
   },
   "outputs": [],
   "source": [
    "def classify_scores(y_train, y_test):\n",
    "    \"\"\"\n",
    "    Bins and classifies comment scores.\n",
    "    \n",
    "    :param y_train: array of comment scores for training\n",
    "    :param y_test: array of comment scores for testing\n",
    "    :returns: binned and classified comment scores for train and test\n",
    "    \"\"\"\n",
    "    \n",
    "    max_y_train = max(y_train)\n",
    "    max_y_test = max(y_test)\n",
    "    \n",
    "    # Create the score bins\n",
    "    bins = [-10000,50,max(max_y_train, max_y_test)]\n",
    "    binned_y_train = [str(item) for item in pd.cut(y_train, bins)]\n",
    "    binned_y_test = [str(item) for item in pd.cut(y_test, bins)]\n",
    "    \n",
    "    binary_y_train = []\n",
    "    binary_y_test = []\n",
    "\n",
    "    # Classify bins into classes 0 or 1\n",
    "    for item in binned_y_train:\n",
    "        if item == '(-10000, 50]':\n",
    "            binary_y_train.append(0)\n",
    "        else:\n",
    "            binary_y_train.append(1)\n",
    "\n",
    "    for item in binned_y_test:\n",
    "        if item == '(-10000, 50]':\n",
    "            binary_y_test.append(0)\n",
    "        else:\n",
    "            binary_y_test.append(1)\n",
    "            \n",
    "    return binary_y_train, binary_y_test"
   ]
  },
  {
   "cell_type": "markdown",
   "metadata": {},
   "source": [
    "# Parameter Tuning and Final Models"
   ]
  },
  {
   "cell_type": "code",
   "execution_count": 10,
   "metadata": {},
   "outputs": [
    {
     "name": "stdout",
     "output_type": "stream",
     "text": [
      "Subreddit: politics ---------------------------------------------\n",
      "Precision\n",
      "All Features:  0.697360703812\n",
      "Dummy Classifier: 0.372043010753\n",
      "\n",
      "\n",
      "Subreddit: atheism ---------------------------------------------\n",
      "Precision\n",
      "All Features:  0.818954248366\n",
      "Dummy Classifier: 0.111111111111\n",
      "\n",
      "\n",
      "Subreddit: hiphopheads ---------------------------------------------\n",
      "Precision\n",
      "All Features:  0.840341880342\n",
      "Dummy Classifier: 0.223931623932\n",
      "\n",
      "\n",
      "Subreddit: science ---------------------------------------------\n",
      "Precision\n",
      "All Features:  0.655976676385\n",
      "Dummy Classifier: 0.165208940719\n",
      "\n",
      "\n",
      "Subreddit: worldnews ---------------------------------------------\n",
      "Precision\n",
      "All Features:  0.594278555022\n",
      "Dummy Classifier: 0.359365211944\n",
      "\n",
      "\n"
     ]
    }
   ],
   "source": [
    "models_d = {}\n",
    "all_features_scores = []\n",
    "dummy_scores = []\n",
    "\n",
    "for subreddit in subreddits:\n",
    "    X_train, y_train, X_test, y_test, tfidf, tfidf_train = get_train_test_split(comments_d[subreddit])\n",
    "    binary_y_train, binary_y_test = classify_scores(y_train, y_test)\n",
    "        \n",
    "    depths = [1,2,3,4,5]\n",
    "    leaf_nodes = [2,3,4,5]\n",
    "    param_grid = dict(max_depth = depths, max_leaf_nodes = leaf_nodes)\n",
    "    \n",
    "    text_features_grid = GridSearchCV(DecisionTreeClassifier(class_weight='balanced'), param_grid, cv=5, scoring='recall')\n",
    "    text_features_grid.fit(X_train, binary_y_train)\n",
    "    dt = DecisionTreeClassifier(class_weight='balanced', \n",
    "                                max_depth=text_features_grid.best_params_['max_depth'],\n",
    "                                max_leaf_nodes=text_features_grid.best_params_['max_leaf_nodes']).fit(X_train, binary_y_train)\n",
    "    pred = dt.predict(X_test)\n",
    "    text_features_score = recall_score(binary_y_test, pred)\n",
    "    \n",
    "    dummy = DummyClassifier().fit(X_train, binary_y_train)\n",
    "    dummy_pred = dummy.predict(X_test)\n",
    "    dummy_score = recall_score(binary_y_test, dummy_pred)\n",
    "    \n",
    "    print('Subreddit: ' + subreddit + ' ---------------------------------------------')\n",
    "    print('Precision')\n",
    "    print('All Features: ', text_features_score)\n",
    "    print('Dummy Classifier: ' + str(dummy_score))\n",
    "    print('\\n')\n",
    "    \n",
    "    all_features_scores.append(text_features_score)\n",
    "    dummy_scores.append(dummy_score)\n",
    "    \n",
    "    X = X_train.append(X_test, ignore_index=True)\n",
    "    y = binary_y_train + binary_y_test\n",
    "        \n",
    "    final_dt = DecisionTreeClassifier(class_weight='balanced', \n",
    "                                max_depth=text_features_grid.best_params_['max_depth'],\n",
    "                                max_leaf_nodes=text_features_grid.best_params_['max_leaf_nodes']).fit(X, y)\n",
    "    \n",
    "    models_d[subreddit] = (final_dt, tfidf, tfidf_train)"
   ]
  },
  {
   "cell_type": "code",
   "execution_count": 11,
   "metadata": {
    "collapsed": true
   },
   "outputs": [],
   "source": [
    "with open('RCC/models_d.pickle', 'wb') as f:\n",
    "    pickle.dump(models_d, f)\n",
    "    \n",
    "with open('Web_App/models_d.pickle', 'wb') as f:\n",
    "    pickle.dump(models_d, f)"
   ]
  },
  {
   "cell_type": "markdown",
   "metadata": {},
   "source": [
    "Save the model dictionary for the web application."
   ]
  },
  {
   "cell_type": "markdown",
   "metadata": {},
   "source": [
    "# Visualizing the Models"
   ]
  },
  {
   "cell_type": "code",
   "execution_count": 12,
   "metadata": {},
   "outputs": [
    {
     "data": {
      "image/png": "[encoded data removed]",
      "text/plain": [
       "<matplotlib.figure.Figure at 0x11f1d52e8>"
      ]
     },
     "metadata": {},
     "output_type": "display_data"
    }
   ],
   "source": [
    "pos = [0,1,2,3,4]\n",
    "width = 0.35\n",
    "fig, ax = plt.subplots(figsize=(10,7))\n",
    "\n",
    "plt.barh(pos, all_features_scores, width, color='#FF8b60')\n",
    "plt.barh([p + width for p in pos], dummy_scores, width, color='#9494FF')\n",
    "ax.set_xlim([0,1])\n",
    "ax.set_yticks([p + width/2 for p in pos])\n",
    "ax.set_yticklabels(['/r/politics', '/r/atheism', '/r/hiphopheads', '/r/science', '/r/worldnews'], size=14)\n",
    "ax.set_xticklabels([0.0,0.2,0.4,0.6,0.8,1], size=14)\n",
    "\n",
    "ax.set_ylabel('Subreddit', size=16)\n",
    "ax.set_xlabel('Recall Score', size=16)\n",
    "ax.set_title('Classifying Subreddit Comments vs. Recall', size=16)\n",
    "\n",
    "plt.legend(['Model', 'Dummy'], loc='upper right', prop={'size':14})\n",
    "\n",
    "ax.invert_yaxis()"
   ]
  }
 ],
 "metadata": {
  "kernelspec": {
   "display_name": "Python [default]",
   "language": "python",
   "name": "python3"
  },
  "language_info": {
   "codemirror_mode": {
    "name": "ipython",
    "version": 3
   },
   "file_extension": ".py",
   "mimetype": "text/x-python",
   "name": "python",
   "nbconvert_exporter": "python",
   "pygments_lexer": "ipython3",
   "version": "3.6.2"
  }
 },
 "nbformat": 4,
 "nbformat_minor": 2
}
